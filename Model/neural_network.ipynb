{
 "cells": [
  {
   "cell_type": "markdown",
   "metadata": {},
   "source": [
    "# Dogs Breed Classifier using CNN"
   ]
  },
  {
   "cell_type": "markdown",
   "metadata": {},
   "source": [
    "## Importing Libraries"
   ]
  },
  {
   "cell_type": "code",
   "execution_count": 54,
   "metadata": {
    "tags": []
   },
   "outputs": [],
   "source": [
    "import tensorflow as tf \n",
    "from keras.preprocessing.image import ImageDataGenerator"
   ]
  },
  {
   "cell_type": "code",
   "execution_count": 55,
   "metadata": {},
   "outputs": [
    {
     "output_type": "execute_result",
     "data": {
      "text/plain": "'1.14.0'"
     },
     "metadata": {},
     "execution_count": 55
    }
   ],
   "source": [
    "tf.__version__"
   ]
  },
  {
   "cell_type": "markdown",
   "metadata": {},
   "source": [
    "## Data Preprocessing"
   ]
  },
  {
   "cell_type": "markdown",
   "metadata": {},
   "source": [
    "### Generating Images for Training Set"
   ]
  },
  {
   "cell_type": "code",
   "execution_count": 56,
   "metadata": {
    "tags": []
   },
   "outputs": [
    {
     "output_type": "stream",
     "name": "stdout",
     "text": "Found 4374 images belonging to 26 classes.\n"
    }
   ],
   "source": [
    "trainDataGen = ImageDataGenerator(\n",
    "    rescale = 1.0 / 255.0,\n",
    "    shear_range = 0.2,\n",
    "    zoom_range = 0.2,\n",
    "    horizontal_flip = True \n",
    ")\n",
    "\n",
    "trainingSet = trainDataGen.flow_from_directory(\n",
    "    '../data/training-set',\n",
    "    target_size = (64, 64),\n",
    "    batch_size = 32,\n",
    "    class_mode = 'categorical'\n",
    ")"
   ]
  },
  {
   "cell_type": "markdown",
   "metadata": {},
   "source": [
    "### Writing breed classes in json file"
   ]
  },
  {
   "cell_type": "code",
   "execution_count": 57,
   "metadata": {},
   "outputs": [],
   "source": [
    "import json \n",
    "\n",
    "dog_classes = trainingSet.class_indices\n",
    "dog_classes_json = json.dumps(dog_classes)\n",
    "\n",
    "with open('dog_classes.json', 'w+') as file:\n",
    "    file.write(dog_classes_json)"
   ]
  },
  {
   "cell_type": "markdown",
   "metadata": {},
   "source": [
    "### Generating images for Test set"
   ]
  },
  {
   "cell_type": "code",
   "execution_count": 58,
   "metadata": {
    "tags": []
   },
   "outputs": [
    {
     "output_type": "stream",
     "name": "stdout",
     "text": "Found 260 images belonging to 26 classes.\n"
    }
   ],
   "source": [
    "testDataGen = ImageDataGenerator(\n",
    "    rescale = 1.0 / 255.0\n",
    ")\n",
    "\n",
    "testSet = testDataGen.flow_from_directory(\n",
    "    '../data/test-set',\n",
    "    target_size = (64, 64),\n",
    "    batch_size = 32,\n",
    "    class_mode = 'categorical'\n",
    ")"
   ]
  },
  {
   "cell_type": "markdown",
   "metadata": {},
   "source": [
    "## Building The CNN"
   ]
  },
  {
   "cell_type": "code",
   "execution_count": 59,
   "metadata": {},
   "outputs": [],
   "source": [
    "from keras.layers import Conv2D, MaxPool2D, Flatten, Dense, InputLayer, BatchNormalization, Dropout, Activation\n",
    "from keras.models import Sequential"
   ]
  },
  {
   "cell_type": "markdown",
   "metadata": {},
   "source": [
    "### Defining Neural Network Architecture"
   ]
  },
  {
   "cell_type": "code",
   "execution_count": 60,
   "metadata": {
    "tags": []
   },
   "outputs": [],
   "source": [
    "model = Sequential()"
   ]
  },
  {
   "cell_type": "markdown",
   "metadata": {},
   "source": [
    "### First Convolutional Layer"
   ]
  },
  {
   "cell_type": "code",
   "execution_count": 61,
   "metadata": {
    "tags": []
   },
   "outputs": [],
   "source": [
    "model.add(Conv2D(32, (3, 3), input_shape=( 64, 64, 3)))\n",
    "model.add(Activation('relu'))\n",
    "model.add(MaxPool2D(pool_size=(2, 2)))"
   ]
  },
  {
   "cell_type": "markdown",
   "metadata": {},
   "source": [
    "### Second Convolution Layer"
   ]
  },
  {
   "cell_type": "code",
   "execution_count": 62,
   "metadata": {},
   "outputs": [],
   "source": [
    "model.add(Conv2D(32, (3, 3)))\n",
    "model.add(Activation('relu'))\n",
    "model.add(MaxPool2D(pool_size=(2, 2)))"
   ]
  },
  {
   "cell_type": "markdown",
   "metadata": {},
   "source": [
    "### Third Convolutional Layer"
   ]
  },
  {
   "cell_type": "code",
   "execution_count": 63,
   "metadata": {},
   "outputs": [],
   "source": [
    "model.add(Conv2D(64, (3, 3)))\n",
    "model.add(Activation('relu'))\n",
    "model.add(MaxPool2D(pool_size=(2, 2)))"
   ]
  },
  {
   "cell_type": "markdown",
   "metadata": {},
   "source": [
    "### Flattening"
   ]
  },
  {
   "cell_type": "code",
   "execution_count": 64,
   "metadata": {},
   "outputs": [],
   "source": [
    "model.add(Flatten()) "
   ]
  },
  {
   "cell_type": "markdown",
   "metadata": {},
   "source": [
    "### Full Connection"
   ]
  },
  {
   "cell_type": "code",
   "execution_count": 65,
   "metadata": {},
   "outputs": [],
   "source": [
    "model.add(Dense(64))\n",
    "model.add(Activation('relu'))"
   ]
  },
  {
   "cell_type": "markdown",
   "metadata": {},
   "source": [
    "### Output Layer"
   ]
  },
  {
   "cell_type": "code",
   "execution_count": 66,
   "metadata": {},
   "outputs": [],
   "source": [
    "model.add(Dense(26))\n",
    "model.add(Activation('softmax'))"
   ]
  },
  {
   "cell_type": "code",
   "execution_count": 67,
   "metadata": {
    "tags": []
   },
   "outputs": [
    {
     "output_type": "stream",
     "name": "stdout",
     "text": "Model: \"sequential_6\"\n_________________________________________________________________\nLayer (type)                 Output Shape              Param #   \n=================================================================\nconv2d_9 (Conv2D)            (None, 62, 62, 32)        896       \n_________________________________________________________________\nactivation_13 (Activation)   (None, 62, 62, 32)        0         \n_________________________________________________________________\nmax_pooling2d_8 (MaxPooling2 (None, 31, 31, 32)        0         \n_________________________________________________________________\nconv2d_10 (Conv2D)           (None, 29, 29, 32)        9248      \n_________________________________________________________________\nactivation_14 (Activation)   (None, 29, 29, 32)        0         \n_________________________________________________________________\nmax_pooling2d_9 (MaxPooling2 (None, 14, 14, 32)        0         \n_________________________________________________________________\nconv2d_11 (Conv2D)           (None, 12, 12, 64)        18496     \n_________________________________________________________________\nactivation_15 (Activation)   (None, 12, 12, 64)        0         \n_________________________________________________________________\nmax_pooling2d_10 (MaxPooling (None, 6, 6, 64)          0         \n_________________________________________________________________\nflatten_3 (Flatten)          (None, 2304)              0         \n_________________________________________________________________\ndense_5 (Dense)              (None, 64)                147520    \n_________________________________________________________________\nactivation_16 (Activation)   (None, 64)                0         \n_________________________________________________________________\ndense_6 (Dense)              (None, 26)                1690      \n_________________________________________________________________\nactivation_17 (Activation)   (None, 26)                0         \n=================================================================\nTotal params: 177,850\nTrainable params: 177,850\nNon-trainable params: 0\n_________________________________________________________________\n"
    }
   ],
   "source": [
    "model.summary()"
   ]
  },
  {
   "cell_type": "markdown",
   "metadata": {},
   "source": [
    "### Compiling the CNN"
   ]
  },
  {
   "cell_type": "code",
   "execution_count": 68,
   "metadata": {},
   "outputs": [],
   "source": [
    "model.compile(loss='categorical_crossentropy',\n",
    "              optimizer='adam',\n",
    "              metrics=['accuracy'])"
   ]
  },
  {
   "cell_type": "markdown",
   "metadata": {},
   "source": [
    "### Training Model on Train data"
   ]
  },
  {
   "cell_type": "code",
   "execution_count": 69,
   "metadata": {
    "tags": []
   },
   "outputs": [
    {
     "output_type": "stream",
     "name": "stdout",
     "text": "Epoch 1/30\n137/137 [==============================] - 35s 253ms/step - loss: 3.2492 - accuracy: 0.0560 - val_loss: 3.1865 - val_accuracy: 0.0654\nEpoch 2/30\n137/137 [==============================] - 38s 277ms/step - loss: 3.1356 - accuracy: 0.1001 - val_loss: 3.8447 - val_accuracy: 0.1000\nEpoch 3/30\n137/137 [==============================] - 59s 429ms/step - loss: 3.0366 - accuracy: 0.1253 - val_loss: 2.9732 - val_accuracy: 0.1192\nEpoch 4/30\n137/137 [==============================] - 56s 408ms/step - loss: 2.9711 - accuracy: 0.1429 - val_loss: 2.8415 - val_accuracy: 0.1423\nEpoch 5/30\n137/137 [==============================] - 38s 280ms/step - loss: 2.9181 - accuracy: 0.1509 - val_loss: 2.4946 - val_accuracy: 0.1615\nEpoch 6/30\n137/137 [==============================] - 38s 279ms/step - loss: 2.8412 - accuracy: 0.1655 - val_loss: 3.1949 - val_accuracy: 0.1769\nEpoch 7/30\n137/137 [==============================] - 38s 277ms/step - loss: 2.7830 - accuracy: 0.1806 - val_loss: 2.2932 - val_accuracy: 0.2038\nEpoch 8/30\n137/137 [==============================] - 38s 276ms/step - loss: 2.7270 - accuracy: 0.2005 - val_loss: 2.5798 - val_accuracy: 0.2462\nEpoch 9/30\n137/137 [==============================] - 38s 275ms/step - loss: 2.6497 - accuracy: 0.2220 - val_loss: 2.0774 - val_accuracy: 0.2731\nEpoch 10/30\n137/137 [==============================] - 38s 279ms/step - loss: 2.5927 - accuracy: 0.2385 - val_loss: 1.5496 - val_accuracy: 0.2808\nEpoch 11/30\n137/137 [==============================] - 37s 271ms/step - loss: 2.5230 - accuracy: 0.2558 - val_loss: 2.3837 - val_accuracy: 0.3346\nEpoch 12/30\n137/137 [==============================] - 37s 271ms/step - loss: 2.4768 - accuracy: 0.2686 - val_loss: 2.0171 - val_accuracy: 0.3269\nEpoch 13/30\n137/137 [==============================] - 38s 276ms/step - loss: 2.4176 - accuracy: 0.2910 - val_loss: 2.1642 - val_accuracy: 0.3423\nEpoch 14/30\n137/137 [==============================] - 38s 279ms/step - loss: 2.3653 - accuracy: 0.3061 - val_loss: 2.2559 - val_accuracy: 0.3615\nEpoch 15/30\n137/137 [==============================] - 38s 274ms/step - loss: 2.3096 - accuracy: 0.3164 - val_loss: 1.9622 - val_accuracy: 0.3577\nEpoch 16/30\n137/137 [==============================] - 38s 278ms/step - loss: 2.2425 - accuracy: 0.3425 - val_loss: 0.8799 - val_accuracy: 0.3846\nEpoch 17/30\n137/137 [==============================] - 38s 277ms/step - loss: 2.1832 - accuracy: 0.3514 - val_loss: 3.1094 - val_accuracy: 0.4385\nEpoch 18/30\n137/137 [==============================] - 38s 276ms/step - loss: 2.1473 - accuracy: 0.3676 - val_loss: 1.7782 - val_accuracy: 0.4269\nEpoch 19/30\n137/137 [==============================] - 38s 278ms/step - loss: 2.0770 - accuracy: 0.3834 - val_loss: 1.5400 - val_accuracy: 0.4846\nEpoch 20/30\n137/137 [==============================] - 38s 276ms/step - loss: 2.0029 - accuracy: 0.4076 - val_loss: 1.1503 - val_accuracy: 0.4769\nEpoch 21/30\n137/137 [==============================] - 38s 277ms/step - loss: 1.9893 - accuracy: 0.3980 - val_loss: 2.8173 - val_accuracy: 0.4885\nEpoch 22/30\n137/137 [==============================] - 38s 279ms/step - loss: 1.9289 - accuracy: 0.4246 - val_loss: 1.2056 - val_accuracy: 0.5346\nEpoch 23/30\n137/137 [==============================] - 38s 276ms/step - loss: 1.8746 - accuracy: 0.4465 - val_loss: 1.9604 - val_accuracy: 0.5500\nEpoch 24/30\n137/137 [==============================] - 38s 278ms/step - loss: 1.7938 - accuracy: 0.4662 - val_loss: 1.3234 - val_accuracy: 0.5346\nEpoch 25/30\n137/137 [==============================] - 38s 277ms/step - loss: 1.7675 - accuracy: 0.4666 - val_loss: 1.6743 - val_accuracy: 0.5846\nEpoch 26/30\n137/137 [==============================] - 38s 280ms/step - loss: 1.6947 - accuracy: 0.4954 - val_loss: 0.9809 - val_accuracy: 0.5500\nEpoch 27/30\n137/137 [==============================] - 38s 277ms/step - loss: 1.6873 - accuracy: 0.4998 - val_loss: 0.7146 - val_accuracy: 0.5462\nEpoch 28/30\n137/137 [==============================] - 38s 275ms/step - loss: 1.6152 - accuracy: 0.5130 - val_loss: 1.6009 - val_accuracy: 0.5231\nEpoch 29/30\n137/137 [==============================] - 38s 276ms/step - loss: 1.5846 - accuracy: 0.5217 - val_loss: 1.2073 - val_accuracy: 0.6346\nEpoch 30/30\n137/137 [==============================] - 38s 278ms/step - loss: 1.5450 - accuracy: 0.5286 - val_loss: 1.3625 - val_accuracy: 0.6231\n"
    },
    {
     "output_type": "execute_result",
     "data": {
      "text/plain": "<keras.callbacks.callbacks.History at 0x7f0798fc0fd0>"
     },
     "metadata": {},
     "execution_count": 69
    }
   ],
   "source": [
    "model.fit(x = trainingSet, validation_data = testSet, epochs = 30)"
   ]
  },
  {
   "cell_type": "markdown",
   "metadata": {},
   "source": [
    "### Saving Model to binary file"
   ]
  },
  {
   "cell_type": "code",
   "execution_count": 70,
   "metadata": {},
   "outputs": [],
   "source": [
    "model.save('model')"
   ]
  },
  {
   "cell_type": "code",
   "execution_count": null,
   "metadata": {},
   "outputs": [],
   "source": []
  }
 ],
 "metadata": {
  "language_info": {
   "codemirror_mode": {
    "name": "ipython",
    "version": 3
   },
   "file_extension": ".py",
   "mimetype": "text/x-python",
   "name": "python",
   "nbconvert_exporter": "python",
   "pygments_lexer": "ipython3",
   "version": "3.6.9-final"
  },
  "orig_nbformat": 2,
  "kernelspec": {
   "name": "python36964bit1162f47d6e97438b80359b44d90c2639",
   "display_name": "Python 3.6.9 64-bit"
  }
 },
 "nbformat": 4,
 "nbformat_minor": 2
}